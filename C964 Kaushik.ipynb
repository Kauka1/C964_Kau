{
 "cells": [
  {
   "cell_type": "markdown",
   "id": "00ef0dbe",
   "metadata": {},
   "source": [
    "# C964 Project"
   ]
  },
  {
   "cell_type": "code",
   "execution_count": 1,
   "id": "46756f7e",
   "metadata": {},
   "outputs": [],
   "source": [
    "import pandas as pd\n",
    "import numpy as np\n",
    "from sklearn import linear_model, metrics"
   ]
  },
  {
   "cell_type": "code",
   "execution_count": 5,
   "id": "6c38f764",
   "metadata": {},
   "outputs": [
    {
     "name": "stdout",
     "output_type": "stream",
     "text": [
      "    age  gender polyuria polydipsia weight_loss weakness polyphagia  \\\n",
      "1    40    Male        0          1           0        1          0   \n",
      "2    58    Male        0          0           0        1          0   \n",
      "3    41    Male        1          0           0        1          1   \n",
      "4    45    Male        0          0           1        1          1   \n",
      "5    60    Male        1          1           1        1          1   \n",
      "..   ..     ...      ...        ...         ...      ...        ...   \n",
      "516  39  Female        1          1           1        0          1   \n",
      "517  48  Female        1          1           1        1          1   \n",
      "518  58  Female        1          1           1        1          1   \n",
      "519  32  Female        0          0           0        1          0   \n",
      "520  42    Male        0          0           0        0          0   \n",
      "\n",
      "    genital_thrush visual_blurring itching irritability delayed_healing  \\\n",
      "1                0               0       1            0               1   \n",
      "2                0               1       0            0               0   \n",
      "3                0               0       1            0               1   \n",
      "4                1               0       1            0               1   \n",
      "5                0               1       1            1               1   \n",
      "..             ...             ...     ...          ...             ...   \n",
      "516              0               0       1            0               1   \n",
      "517              0               0       1            1               1   \n",
      "518              0               1       0            0               0   \n",
      "519              0               1       1            0               1   \n",
      "520              0               0       0            0               0   \n",
      "\n",
      "    partial_paresis muscle_stiffness alopecia obesity has_diabetes  \n",
      "1                 0                1        1       1            1  \n",
      "2                 1                0        1       0            1  \n",
      "3                 0                1        1       0            1  \n",
      "4                 0                0        0       0            1  \n",
      "5                 1                1        1       1            1  \n",
      "..              ...              ...      ...     ...          ...  \n",
      "516               1                0        0       0            1  \n",
      "517               1                0        0       0            1  \n",
      "518               1                1        0       1            1  \n",
      "519               0                0        1       0            0  \n",
      "520               0                0        0       0            0  \n",
      "\n",
      "[520 rows x 17 columns]\n",
      "0.9307692307692308\n"
     ]
    }
   ],
   "source": [
    "column_names = ['age', 'gender', 'polyuria', 'polydipsia', 'weight_loss', 'weakness', 'polyphagia', 'genital_thrush', 'visual_blurring', 'itching', 'irritability', 'delayed_healing', 'partial_paresis', 'muscle_stiffness', 'alopecia', 'obesity', 'has_diabetes']\n",
    "raw_data_name = ['data']\n",
    "df_raw_data = pd.read_csv('diabetes_data.csv', names=raw_data_name)\n",
    "df_raw_data['data_list'] = df_raw_data['data'].str.split(';')\n",
    "df_raw_data = pd.DataFrame(df_raw_data['data_list'].tolist())\n",
    "df_raw_data.drop(index=df_raw_data.index[0], axis=0, inplace=True)\n",
    "df = pd.DataFrame(columns=column_names)\n",
    "df = pd.concat([df_raw_data], axis=0)\n",
    "df.columns = column_names\n",
    "print(df)\n",
    "\n",
    "\n",
    "df['gender'] = np.where(\n",
    "   (df['gender'] == 'Male'), 0, df['gender']\n",
    "   )\n",
    "\n",
    "df['gender'] = np.where(\n",
    "   (df['gender'] == 'Female'), 1, df['gender']\n",
    "   )\n",
    "\n",
    "\n",
    "my_model = linear_model.LogisticRegression(max_iter=600)\n",
    "\n",
    "y = df.values[:,16]\n",
    "x = df.values[:,0:16]\n",
    "\n",
    "my_model.fit(x,y)\n",
    "\n",
    "y_pred = my_model.predict(x)\n",
    "\n",
    "print(metrics.accuracy_score(y, y_pred))\n"
   ]
  },
  {
   "cell_type": "code",
   "execution_count": null,
   "id": "9b08ded1",
   "metadata": {},
   "outputs": [],
   "source": []
  }
 ],
 "metadata": {
  "kernelspec": {
   "display_name": "Python 3 (ipykernel)",
   "language": "python",
   "name": "python3"
  },
  "language_info": {
   "codemirror_mode": {
    "name": "ipython",
    "version": 3
   },
   "file_extension": ".py",
   "mimetype": "text/x-python",
   "name": "python",
   "nbconvert_exporter": "python",
   "pygments_lexer": "ipython3",
   "version": "3.9.13"
  }
 },
 "nbformat": 4,
 "nbformat_minor": 5
}
